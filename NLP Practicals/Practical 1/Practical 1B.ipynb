{
 "cells": [
  {
   "cell_type": "code",
   "execution_count": 1,
   "id": "27e23c9f-e4d1-40b2-8b2b-fa8d7cb47454",
   "metadata": {},
   "outputs": [],
   "source": [
    "# Practical 1B :- Speech to Text"
   ]
  },
  {
   "cell_type": "code",
   "execution_count": 2,
   "id": "1764a6f5-06de-4dbe-afe8-a2b0955ac1d5",
   "metadata": {},
   "outputs": [
    {
     "name": "stdout",
     "output_type": "stream",
     "text": [
      "Requirement already satisfied: nltk in c:\\users\\minal\\appdata\\local\\programs\\python\\python39\\lib\\site-packages (3.8.1)\n",
      "Requirement already satisfied: click in c:\\users\\minal\\appdata\\local\\programs\\python\\python39\\lib\\site-packages (from nltk) (8.1.7)\n",
      "Requirement already satisfied: joblib in c:\\users\\minal\\appdata\\local\\programs\\python\\python39\\lib\\site-packages (from nltk) (1.4.2)\n",
      "Requirement already satisfied: regex>=2021.8.3 in c:\\users\\minal\\appdata\\local\\programs\\python\\python39\\lib\\site-packages (from nltk) (2024.5.15)\n",
      "Requirement already satisfied: tqdm in c:\\users\\minal\\appdata\\local\\programs\\python\\python39\\lib\\site-packages (from nltk) (4.66.5)\n",
      "Requirement already satisfied: colorama; platform_system == \"Windows\" in c:\\users\\minal\\appdata\\local\\programs\\python\\python39\\lib\\site-packages (from click->nltk) (0.4.6)\n"
     ]
    },
    {
     "name": "stderr",
     "output_type": "stream",
     "text": [
      "WARNING: You are using pip version 20.2.3; however, version 24.2 is available.\n",
      "You should consider upgrading via the 'c:\\users\\minal\\appdata\\local\\programs\\python\\python39\\python.exe -m pip install --upgrade pip' command.\n"
     ]
    }
   ],
   "source": [
    "!pip install nltk"
   ]
  },
  {
   "cell_type": "code",
   "execution_count": 3,
   "id": "2e7042e9-e062-4a05-8bcc-054de0b56d8f",
   "metadata": {},
   "outputs": [
    {
     "name": "stdout",
     "output_type": "stream",
     "text": [
      "Requirement already satisfied: playsound in c:\\users\\minal\\appdata\\local\\programs\\python\\python39\\lib\\site-packages (1.3.0)\n"
     ]
    },
    {
     "name": "stderr",
     "output_type": "stream",
     "text": [
      "WARNING: You are using pip version 20.2.3; however, version 24.2 is available.\n",
      "You should consider upgrading via the 'c:\\users\\minal\\appdata\\local\\programs\\python\\python39\\python.exe -m pip install --upgrade pip' command.\n"
     ]
    }
   ],
   "source": [
    "!pip install playsound"
   ]
  },
  {
   "cell_type": "code",
   "execution_count": 4,
   "id": "7eb244e9-e324-46ca-a91b-a29502b004cc",
   "metadata": {},
   "outputs": [
    {
     "name": "stdout",
     "output_type": "stream",
     "text": [
      "Requirement already satisfied: SpeechRecognition in c:\\users\\minal\\appdata\\local\\programs\\python\\python39\\lib\\site-packages (3.10.4)\n",
      "Requirement already satisfied: pydub in c:\\users\\minal\\appdata\\local\\programs\\python\\python39\\lib\\site-packages (0.25.1)\n",
      "Requirement already satisfied: typing-extensions in c:\\users\\minal\\appdata\\local\\programs\\python\\python39\\lib\\site-packages (from SpeechRecognition) (4.12.0)\n",
      "Requirement already satisfied: requests>=2.26.0 in c:\\users\\minal\\appdata\\local\\programs\\python\\python39\\lib\\site-packages (from SpeechRecognition) (2.32.2)\n",
      "Requirement already satisfied: idna<4,>=2.5 in c:\\users\\minal\\appdata\\local\\programs\\python\\python39\\lib\\site-packages (from requests>=2.26.0->SpeechRecognition) (3.7)\n",
      "Requirement already satisfied: charset-normalizer<4,>=2 in c:\\users\\minal\\appdata\\local\\programs\\python\\python39\\lib\\site-packages (from requests>=2.26.0->SpeechRecognition) (3.3.2)\n",
      "Requirement already satisfied: urllib3<3,>=1.21.1 in c:\\users\\minal\\appdata\\local\\programs\\python\\python39\\lib\\site-packages (from requests>=2.26.0->SpeechRecognition) (2.2.1)\n",
      "Requirement already satisfied: certifi>=2017.4.17 in c:\\users\\minal\\appdata\\local\\programs\\python\\python39\\lib\\site-packages (from requests>=2.26.0->SpeechRecognition) (2024.2.2)\n"
     ]
    },
    {
     "name": "stderr",
     "output_type": "stream",
     "text": [
      "WARNING: You are using pip version 20.2.3; however, version 24.2 is available.\n",
      "You should consider upgrading via the 'c:\\users\\minal\\appdata\\local\\programs\\python\\python39\\python.exe -m pip install --upgrade pip' command.\n"
     ]
    }
   ],
   "source": [
    "!pip install SpeechRecognition pydub"
   ]
  },
  {
   "cell_type": "code",
   "execution_count": 5,
   "id": "70691f92-c386-4a62-b6c6-39b6491a2615",
   "metadata": {},
   "outputs": [
    {
     "name": "stdout",
     "output_type": "stream",
     "text": [
      "Requirement already satisfied: gtts in c:\\users\\minal\\appdata\\local\\programs\\python\\python39\\lib\\site-packages (2.5.2)\n",
      "Requirement already satisfied: requests<3,>=2.27 in c:\\users\\minal\\appdata\\local\\programs\\python\\python39\\lib\\site-packages (from gtts) (2.32.2)\n",
      "Requirement already satisfied: click<8.2,>=7.1 in c:\\users\\minal\\appdata\\local\\programs\\python\\python39\\lib\\site-packages (from gtts) (8.1.7)\n",
      "Requirement already satisfied: urllib3<3,>=1.21.1 in c:\\users\\minal\\appdata\\local\\programs\\python\\python39\\lib\\site-packages (from requests<3,>=2.27->gtts) (2.2.1)\n",
      "Requirement already satisfied: charset-normalizer<4,>=2 in c:\\users\\minal\\appdata\\local\\programs\\python\\python39\\lib\\site-packages (from requests<3,>=2.27->gtts) (3.3.2)\n",
      "Requirement already satisfied: certifi>=2017.4.17 in c:\\users\\minal\\appdata\\local\\programs\\python\\python39\\lib\\site-packages (from requests<3,>=2.27->gtts) (2024.2.2)\n",
      "Requirement already satisfied: idna<4,>=2.5 in c:\\users\\minal\\appdata\\local\\programs\\python\\python39\\lib\\site-packages (from requests<3,>=2.27->gtts) (3.7)\n",
      "Requirement already satisfied: colorama; platform_system == \"Windows\" in c:\\users\\minal\\appdata\\local\\programs\\python\\python39\\lib\\site-packages (from click<8.2,>=7.1->gtts) (0.4.6)\n"
     ]
    },
    {
     "name": "stderr",
     "output_type": "stream",
     "text": [
      "WARNING: You are using pip version 20.2.3; however, version 24.2 is available.\n",
      "You should consider upgrading via the 'c:\\users\\minal\\appdata\\local\\programs\\python\\python39\\python.exe -m pip install --upgrade pip' command.\n"
     ]
    }
   ],
   "source": [
    "!pip install gtts"
   ]
  },
  {
   "cell_type": "code",
   "execution_count": 6,
   "id": "e9df0d8e-45ce-4101-afa4-afa72393415d",
   "metadata": {},
   "outputs": [],
   "source": [
    "from gtts import gTTS"
   ]
  },
  {
   "cell_type": "code",
   "execution_count": 7,
   "id": "2e30e8f9-7bb1-47b1-ae5c-12d7875e3108",
   "metadata": {},
   "outputs": [],
   "source": [
    "from playsound import playsound"
   ]
  },
  {
   "cell_type": "code",
   "execution_count": 8,
   "id": "d9038fb1-454a-4063-a16a-3efca7ea8b99",
   "metadata": {},
   "outputs": [],
   "source": [
    "import speech_recognition as sr"
   ]
  },
  {
   "cell_type": "code",
   "execution_count": 9,
   "id": "fe0ffaff-5985-4a4c-a4d1-76a0c3507a4f",
   "metadata": {},
   "outputs": [],
   "source": [
    "r = sr.Recognizer()"
   ]
  },
  {
   "cell_type": "code",
   "execution_count": 10,
   "id": "6267c027-ab8d-4eb4-9a74-fe302654648c",
   "metadata": {},
   "outputs": [],
   "source": [
    "filename = r\"C:\\Users\\Minal\\Desktop\\MscIT_Sem4_Practicals\\NLP Practicals\\Practical 1\\male600.wav\""
   ]
  },
  {
   "cell_type": "code",
   "execution_count": 11,
   "id": "7109a8d4-1787-45eb-9817-0d480b3cc093",
   "metadata": {},
   "outputs": [
    {
     "name": "stdout",
     "output_type": "stream",
     "text": [
      "Rajasthani designs\n"
     ]
    }
   ],
   "source": [
    "with sr.AudioFile(filename) as source:\n",
    "    audio_data = r.record(source)\n",
    "    text = r.recognize_google(audio_data)\n",
    "    print(text)"
   ]
  },
  {
   "cell_type": "code",
   "execution_count": null,
   "id": "321da2b0-a22a-4943-a2e2-fd38cfb252bf",
   "metadata": {},
   "outputs": [],
   "source": []
  }
 ],
 "metadata": {
  "kernelspec": {
   "display_name": "Python 3 (ipykernel)",
   "language": "python",
   "name": "python3"
  },
  "language_info": {
   "codemirror_mode": {
    "name": "ipython",
    "version": 3
   },
   "file_extension": ".py",
   "mimetype": "text/x-python",
   "name": "python",
   "nbconvert_exporter": "python",
   "pygments_lexer": "ipython3",
   "version": "3.9.2"
  }
 },
 "nbformat": 4,
 "nbformat_minor": 5
}
