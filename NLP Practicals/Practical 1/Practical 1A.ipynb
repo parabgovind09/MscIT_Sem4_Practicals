{
 "cells": [
  {
   "cell_type": "code",
   "execution_count": 1,
   "id": "01d1cc30-7046-4dcb-adc8-6a68d0036dcf",
   "metadata": {},
   "outputs": [
    {
     "name": "stdout",
     "output_type": "stream",
     "text": [
      "Requirement already satisfied: playsound in c:\\users\\minal\\appdata\\local\\programs\\python\\python39\\lib\\site-packages (1.3.0)\n"
     ]
    },
    {
     "name": "stderr",
     "output_type": "stream",
     "text": [
      "WARNING: You are using pip version 20.2.3; however, version 24.2 is available.\n",
      "You should consider upgrading via the 'c:\\users\\minal\\appdata\\local\\programs\\python\\python39\\python.exe -m pip install --upgrade pip' command.\n"
     ]
    }
   ],
   "source": [
    "!pip install playsound"
   ]
  },
  {
   "cell_type": "code",
   "execution_count": 2,
   "id": "1452823e-bf1c-478d-b5fe-675d3726de0e",
   "metadata": {},
   "outputs": [
    {
     "name": "stdout",
     "output_type": "stream",
     "text": [
      "Requirement already satisfied: nltk in c:\\users\\minal\\appdata\\local\\programs\\python\\python39\\lib\\site-packages (3.8.1)\n",
      "Requirement already satisfied: regex>=2021.8.3 in c:\\users\\minal\\appdata\\local\\programs\\python\\python39\\lib\\site-packages (from nltk) (2024.5.15)\n",
      "Requirement already satisfied: joblib in c:\\users\\minal\\appdata\\local\\programs\\python\\python39\\lib\\site-packages (from nltk) (1.4.2)\n",
      "Requirement already satisfied: click in c:\\users\\minal\\appdata\\local\\programs\\python\\python39\\lib\\site-packages (from nltk) (8.1.7)\n",
      "Requirement already satisfied: tqdm in c:\\users\\minal\\appdata\\local\\programs\\python\\python39\\lib\\site-packages (from nltk) (4.66.5)\n",
      "Requirement already satisfied: colorama; platform_system == \"Windows\" in c:\\users\\minal\\appdata\\local\\programs\\python\\python39\\lib\\site-packages (from click->nltk) (0.4.6)\n"
     ]
    },
    {
     "name": "stderr",
     "output_type": "stream",
     "text": [
      "WARNING: You are using pip version 20.2.3; however, version 24.2 is available.\n",
      "You should consider upgrading via the 'c:\\users\\minal\\appdata\\local\\programs\\python\\python39\\python.exe -m pip install --upgrade pip' command.\n"
     ]
    }
   ],
   "source": [
    "!pip install nltk"
   ]
  },
  {
   "cell_type": "code",
   "execution_count": 3,
   "id": "0032b9d9-1199-4109-a1d3-93577c0dd22f",
   "metadata": {},
   "outputs": [
    {
     "name": "stdout",
     "output_type": "stream",
     "text": [
      "Requirement already satisfied: gtts in c:\\users\\minal\\appdata\\local\\programs\\python\\python39\\lib\\site-packages (2.5.2)\n",
      "Requirement already satisfied: click<8.2,>=7.1 in c:\\users\\minal\\appdata\\local\\programs\\python\\python39\\lib\\site-packages (from gtts) (8.1.7)\n",
      "Requirement already satisfied: requests<3,>=2.27 in c:\\users\\minal\\appdata\\local\\programs\\python\\python39\\lib\\site-packages (from gtts) (2.32.2)\n",
      "Requirement already satisfied: colorama; platform_system == \"Windows\" in c:\\users\\minal\\appdata\\local\\programs\\python\\python39\\lib\\site-packages (from click<8.2,>=7.1->gtts) (0.4.6)\n",
      "Requirement already satisfied: urllib3<3,>=1.21.1 in c:\\users\\minal\\appdata\\local\\programs\\python\\python39\\lib\\site-packages (from requests<3,>=2.27->gtts) (2.2.1)\n",
      "Requirement already satisfied: charset-normalizer<4,>=2 in c:\\users\\minal\\appdata\\local\\programs\\python\\python39\\lib\\site-packages (from requests<3,>=2.27->gtts) (3.3.2)\n",
      "Requirement already satisfied: certifi>=2017.4.17 in c:\\users\\minal\\appdata\\local\\programs\\python\\python39\\lib\\site-packages (from requests<3,>=2.27->gtts) (2024.2.2)\n",
      "Requirement already satisfied: idna<4,>=2.5 in c:\\users\\minal\\appdata\\local\\programs\\python\\python39\\lib\\site-packages (from requests<3,>=2.27->gtts) (3.7)\n"
     ]
    },
    {
     "name": "stderr",
     "output_type": "stream",
     "text": [
      "WARNING: You are using pip version 20.2.3; however, version 24.2 is available.\n",
      "You should consider upgrading via the 'c:\\users\\minal\\appdata\\local\\programs\\python\\python39\\python.exe -m pip install --upgrade pip' command.\n"
     ]
    }
   ],
   "source": [
    "!pip install gtts"
   ]
  },
  {
   "cell_type": "code",
   "execution_count": 4,
   "id": "e808354c-040d-4c20-93e0-b3934379ba5d",
   "metadata": {},
   "outputs": [
    {
     "name": "stdout",
     "output_type": "stream",
     "text": [
      "Requirement already satisfied: SpeechRecognition in c:\\users\\minal\\appdata\\local\\programs\\python\\python39\\lib\\site-packages (3.10.4)\n",
      "Requirement already satisfied: pydub in c:\\users\\minal\\appdata\\local\\programs\\python\\python39\\lib\\site-packages (0.25.1)\n",
      "Requirement already satisfied: typing-extensions in c:\\users\\minal\\appdata\\local\\programs\\python\\python39\\lib\\site-packages (from SpeechRecognition) (4.12.0)\n",
      "Requirement already satisfied: requests>=2.26.0 in c:\\users\\minal\\appdata\\local\\programs\\python\\python39\\lib\\site-packages (from SpeechRecognition) (2.32.2)\n",
      "Requirement already satisfied: urllib3<3,>=1.21.1 in c:\\users\\minal\\appdata\\local\\programs\\python\\python39\\lib\\site-packages (from requests>=2.26.0->SpeechRecognition) (2.2.1)\n",
      "Requirement already satisfied: charset-normalizer<4,>=2 in c:\\users\\minal\\appdata\\local\\programs\\python\\python39\\lib\\site-packages (from requests>=2.26.0->SpeechRecognition) (3.3.2)\n",
      "Requirement already satisfied: idna<4,>=2.5 in c:\\users\\minal\\appdata\\local\\programs\\python\\python39\\lib\\site-packages (from requests>=2.26.0->SpeechRecognition) (3.7)\n",
      "Requirement already satisfied: certifi>=2017.4.17 in c:\\users\\minal\\appdata\\local\\programs\\python\\python39\\lib\\site-packages (from requests>=2.26.0->SpeechRecognition) (2024.2.2)\n"
     ]
    },
    {
     "name": "stderr",
     "output_type": "stream",
     "text": [
      "WARNING: You are using pip version 20.2.3; however, version 24.2 is available.\n",
      "You should consider upgrading via the 'c:\\users\\minal\\appdata\\local\\programs\\python\\python39\\python.exe -m pip install --upgrade pip' command.\n"
     ]
    }
   ],
   "source": [
    "!pip install SpeechRecognition pydub"
   ]
  },
  {
   "cell_type": "code",
   "execution_count": 5,
   "id": "04e5020b-b687-46a8-b76d-cb150c239eb3",
   "metadata": {},
   "outputs": [],
   "source": [
    "from playsound import playsound"
   ]
  },
  {
   "cell_type": "code",
   "execution_count": 6,
   "id": "d9c419cc-86f0-4c68-8de9-6ea0c5dc6aae",
   "metadata": {},
   "outputs": [],
   "source": [
    "from gtts import gTTS"
   ]
  },
  {
   "cell_type": "code",
   "execution_count": 7,
   "id": "0bb5d990-eea5-4edc-9107-edcb49d8e039",
   "metadata": {},
   "outputs": [],
   "source": [
    "mytext = \"My name is govind rama parab\""
   ]
  },
  {
   "cell_type": "code",
   "execution_count": 8,
   "id": "32000498-a14c-4806-81e5-88498f3621f2",
   "metadata": {},
   "outputs": [],
   "source": [
    "lang = \"en\""
   ]
  },
  {
   "cell_type": "code",
   "execution_count": 9,
   "id": "775a87b0-5217-45c9-9c62-8fd917e25396",
   "metadata": {},
   "outputs": [],
   "source": [
    "myobj = gTTS(text=mytext,lang=lang,slow=False)"
   ]
  },
  {
   "cell_type": "code",
   "execution_count": 10,
   "id": "37ac7e11-9de6-4332-9e53-35b8b5e22711",
   "metadata": {},
   "outputs": [],
   "source": [
    "myobj.save(r\"C:\\Users\\Minal\\Desktop\\MscIT_Sem4_Practicals\\NLP Practicals\\Practical 1\\myAudioFile.mp3\")"
   ]
  },
  {
   "cell_type": "code",
   "execution_count": null,
   "id": "148ea039-5341-424c-884b-41d715ac8184",
   "metadata": {},
   "outputs": [],
   "source": [
    "playsound(r\"C:\\Users\\Minal\\Desktop\\MscIT_Sem4_Practicals\\NLP Practicals\\Practical 1\\myAudioFile.mp3\")"
   ]
  },
  {
   "cell_type": "code",
   "execution_count": null,
   "id": "acac159b-e433-4f8f-a28d-0f2220619241",
   "metadata": {},
   "outputs": [],
   "source": []
  }
 ],
 "metadata": {
  "kernelspec": {
   "display_name": "Python 3 (ipykernel)",
   "language": "python",
   "name": "python3"
  },
  "language_info": {
   "codemirror_mode": {
    "name": "ipython",
    "version": 3
   },
   "file_extension": ".py",
   "mimetype": "text/x-python",
   "name": "python",
   "nbconvert_exporter": "python",
   "pygments_lexer": "ipython3",
   "version": "3.9.2"
  }
 },
 "nbformat": 4,
 "nbformat_minor": 5
}
