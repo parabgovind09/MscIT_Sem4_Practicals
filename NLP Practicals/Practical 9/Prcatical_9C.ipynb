{
  "nbformat": 4,
  "nbformat_minor": 0,
  "metadata": {
    "colab": {
      "provenance": []
    },
    "kernelspec": {
      "name": "python3",
      "display_name": "Python 3"
    },
    "language_info": {
      "name": "python"
    }
  },
  "cells": [
    {
      "cell_type": "code",
      "execution_count": 1,
      "metadata": {
        "id": "vSnNZXNGBA0P"
      },
      "outputs": [],
      "source": [
        "# Practical 9 :- Handling Stopwords"
      ]
    },
    {
      "cell_type": "code",
      "source": [
        "# Practical 9C :- Using gensim adding and removing stop words in default gensim stopwords list."
      ],
      "metadata": {
        "id": "c7w8GfS-Ba7h"
      },
      "execution_count": 2,
      "outputs": []
    },
    {
      "cell_type": "code",
      "source": [
        "!pip install nltk"
      ],
      "metadata": {
        "colab": {
          "base_uri": "https://localhost:8080/"
        },
        "id": "Q1d-hNoOBp0M",
        "outputId": "2a0545fc-977b-4c0d-e417-20ef88b07fa6"
      },
      "execution_count": 3,
      "outputs": [
        {
          "output_type": "stream",
          "name": "stdout",
          "text": [
            "Requirement already satisfied: nltk in /usr/local/lib/python3.10/dist-packages (3.8.1)\n",
            "Requirement already satisfied: click in /usr/local/lib/python3.10/dist-packages (from nltk) (8.1.7)\n",
            "Requirement already satisfied: joblib in /usr/local/lib/python3.10/dist-packages (from nltk) (1.4.2)\n",
            "Requirement already satisfied: regex>=2021.8.3 in /usr/local/lib/python3.10/dist-packages (from nltk) (2024.5.15)\n",
            "Requirement already satisfied: tqdm in /usr/local/lib/python3.10/dist-packages (from nltk) (4.66.5)\n"
          ]
        }
      ]
    },
    {
      "cell_type": "code",
      "source": [
        "!pip install gensim"
      ],
      "metadata": {
        "colab": {
          "base_uri": "https://localhost:8080/"
        },
        "id": "0NsAKCXtCnT1",
        "outputId": "61f009cb-b645-4141-fd25-dbae04b576f5"
      },
      "execution_count": 4,
      "outputs": [
        {
          "output_type": "stream",
          "name": "stdout",
          "text": [
            "Requirement already satisfied: gensim in /usr/local/lib/python3.10/dist-packages (4.3.3)\n",
            "Requirement already satisfied: numpy<2.0,>=1.18.5 in /usr/local/lib/python3.10/dist-packages (from gensim) (1.26.4)\n",
            "Requirement already satisfied: scipy<1.14.0,>=1.7.0 in /usr/local/lib/python3.10/dist-packages (from gensim) (1.13.1)\n",
            "Requirement already satisfied: smart-open>=1.8.1 in /usr/local/lib/python3.10/dist-packages (from gensim) (7.0.4)\n",
            "Requirement already satisfied: wrapt in /usr/local/lib/python3.10/dist-packages (from smart-open>=1.8.1->gensim) (1.16.0)\n"
          ]
        }
      ]
    },
    {
      "cell_type": "code",
      "source": [
        "import nltk"
      ],
      "metadata": {
        "id": "-h_ml2QUCwF0"
      },
      "execution_count": 5,
      "outputs": []
    },
    {
      "cell_type": "code",
      "source": [
        "import gensim"
      ],
      "metadata": {
        "id": "9C6VHS8KCx9p"
      },
      "execution_count": 6,
      "outputs": []
    },
    {
      "cell_type": "code",
      "source": [
        "nltk.download(\"punkt\")"
      ],
      "metadata": {
        "colab": {
          "base_uri": "https://localhost:8080/"
        },
        "id": "80JwiwziCpHz",
        "outputId": "419943d4-cde1-4505-8d2e-7674c7995557"
      },
      "execution_count": 7,
      "outputs": [
        {
          "output_type": "stream",
          "name": "stderr",
          "text": [
            "[nltk_data] Downloading package punkt to /root/nltk_data...\n",
            "[nltk_data]   Package punkt is already up-to-date!\n"
          ]
        },
        {
          "output_type": "execute_result",
          "data": {
            "text/plain": [
              "True"
            ]
          },
          "metadata": {},
          "execution_count": 7
        }
      ]
    },
    {
      "cell_type": "code",
      "source": [
        "from nltk.tokenize import word_tokenize"
      ],
      "metadata": {
        "id": "E-QmKdhRCstu"
      },
      "execution_count": 8,
      "outputs": []
    },
    {
      "cell_type": "code",
      "source": [
        "from gensim.parsing.preprocessing import remove_stopwords"
      ],
      "metadata": {
        "id": "SOzLLGWgDAf5"
      },
      "execution_count": 9,
      "outputs": []
    },
    {
      "cell_type": "code",
      "source": [
        "text = \"My name is Swara and i like to play chess.\""
      ],
      "metadata": {
        "id": "j233yEfEDO59"
      },
      "execution_count": 10,
      "outputs": []
    },
    {
      "cell_type": "code",
      "source": [
        "remove_stopwords(text)"
      ],
      "metadata": {
        "colab": {
          "base_uri": "https://localhost:8080/",
          "height": 35
        },
        "id": "9o0zFE22DX40",
        "outputId": "fc6a391a-1fc1-4c7c-a215-95b78b2d1623"
      },
      "execution_count": 11,
      "outputs": [
        {
          "output_type": "execute_result",
          "data": {
            "text/plain": [
              "'My Swara like play chess.'"
            ],
            "application/vnd.google.colaboratory.intrinsic+json": {
              "type": "string"
            }
          },
          "metadata": {},
          "execution_count": 11
        }
      ]
    },
    {
      "cell_type": "code",
      "source": [
        "tokens = word_tokenize(text)"
      ],
      "metadata": {
        "id": "RiDPERH_DdJX"
      },
      "execution_count": 12,
      "outputs": []
    },
    {
      "cell_type": "code",
      "source": [
        "tokens"
      ],
      "metadata": {
        "colab": {
          "base_uri": "https://localhost:8080/"
        },
        "id": "MGtlqbkDD_ZF",
        "outputId": "394b2ea1-dceb-4f20-ed40-e0b51bcf87c0"
      },
      "execution_count": 13,
      "outputs": [
        {
          "output_type": "execute_result",
          "data": {
            "text/plain": [
              "['My', 'name', 'is', 'Swara', 'and', 'i', 'like', 'to', 'play', 'chess', '.']"
            ]
          },
          "metadata": {},
          "execution_count": 13
        }
      ]
    },
    {
      "cell_type": "code",
      "source": [
        "all_stopwords = gensim.parsing.preprocessing.STOPWORDS"
      ],
      "metadata": {
        "id": "YbgnnVEYEAK6"
      },
      "execution_count": 14,
      "outputs": []
    },
    {
      "cell_type": "code",
      "source": [
        "all_stopwords"
      ],
      "metadata": {
        "colab": {
          "base_uri": "https://localhost:8080/"
        },
        "id": "TCTBh6GXEL0D",
        "outputId": "643e1aa9-f103-43f8-d785-49309e91681d"
      },
      "execution_count": 15,
      "outputs": [
        {
          "output_type": "execute_result",
          "data": {
            "text/plain": [
              "frozenset({'a',\n",
              "           'about',\n",
              "           'above',\n",
              "           'across',\n",
              "           'after',\n",
              "           'afterwards',\n",
              "           'again',\n",
              "           'against',\n",
              "           'all',\n",
              "           'almost',\n",
              "           'alone',\n",
              "           'along',\n",
              "           'already',\n",
              "           'also',\n",
              "           'although',\n",
              "           'always',\n",
              "           'am',\n",
              "           'among',\n",
              "           'amongst',\n",
              "           'amoungst',\n",
              "           'amount',\n",
              "           'an',\n",
              "           'and',\n",
              "           'another',\n",
              "           'any',\n",
              "           'anyhow',\n",
              "           'anyone',\n",
              "           'anything',\n",
              "           'anyway',\n",
              "           'anywhere',\n",
              "           'are',\n",
              "           'around',\n",
              "           'as',\n",
              "           'at',\n",
              "           'back',\n",
              "           'be',\n",
              "           'became',\n",
              "           'because',\n",
              "           'become',\n",
              "           'becomes',\n",
              "           'becoming',\n",
              "           'been',\n",
              "           'before',\n",
              "           'beforehand',\n",
              "           'behind',\n",
              "           'being',\n",
              "           'below',\n",
              "           'beside',\n",
              "           'besides',\n",
              "           'between',\n",
              "           'beyond',\n",
              "           'bill',\n",
              "           'both',\n",
              "           'bottom',\n",
              "           'but',\n",
              "           'by',\n",
              "           'call',\n",
              "           'can',\n",
              "           'cannot',\n",
              "           'cant',\n",
              "           'co',\n",
              "           'computer',\n",
              "           'con',\n",
              "           'could',\n",
              "           'couldnt',\n",
              "           'cry',\n",
              "           'de',\n",
              "           'describe',\n",
              "           'detail',\n",
              "           'did',\n",
              "           'didn',\n",
              "           'do',\n",
              "           'does',\n",
              "           'doesn',\n",
              "           'doing',\n",
              "           'don',\n",
              "           'done',\n",
              "           'down',\n",
              "           'due',\n",
              "           'during',\n",
              "           'each',\n",
              "           'eg',\n",
              "           'eight',\n",
              "           'either',\n",
              "           'eleven',\n",
              "           'else',\n",
              "           'elsewhere',\n",
              "           'empty',\n",
              "           'enough',\n",
              "           'etc',\n",
              "           'even',\n",
              "           'ever',\n",
              "           'every',\n",
              "           'everyone',\n",
              "           'everything',\n",
              "           'everywhere',\n",
              "           'except',\n",
              "           'few',\n",
              "           'fifteen',\n",
              "           'fifty',\n",
              "           'fill',\n",
              "           'find',\n",
              "           'fire',\n",
              "           'first',\n",
              "           'five',\n",
              "           'for',\n",
              "           'former',\n",
              "           'formerly',\n",
              "           'forty',\n",
              "           'found',\n",
              "           'four',\n",
              "           'from',\n",
              "           'front',\n",
              "           'full',\n",
              "           'further',\n",
              "           'get',\n",
              "           'give',\n",
              "           'go',\n",
              "           'had',\n",
              "           'has',\n",
              "           'hasnt',\n",
              "           'have',\n",
              "           'he',\n",
              "           'hence',\n",
              "           'her',\n",
              "           'here',\n",
              "           'hereafter',\n",
              "           'hereby',\n",
              "           'herein',\n",
              "           'hereupon',\n",
              "           'hers',\n",
              "           'herself',\n",
              "           'him',\n",
              "           'himself',\n",
              "           'his',\n",
              "           'how',\n",
              "           'however',\n",
              "           'hundred',\n",
              "           'i',\n",
              "           'ie',\n",
              "           'if',\n",
              "           'in',\n",
              "           'inc',\n",
              "           'indeed',\n",
              "           'interest',\n",
              "           'into',\n",
              "           'is',\n",
              "           'it',\n",
              "           'its',\n",
              "           'itself',\n",
              "           'just',\n",
              "           'keep',\n",
              "           'kg',\n",
              "           'km',\n",
              "           'last',\n",
              "           'latter',\n",
              "           'latterly',\n",
              "           'least',\n",
              "           'less',\n",
              "           'ltd',\n",
              "           'made',\n",
              "           'make',\n",
              "           'many',\n",
              "           'may',\n",
              "           'me',\n",
              "           'meanwhile',\n",
              "           'might',\n",
              "           'mill',\n",
              "           'mine',\n",
              "           'more',\n",
              "           'moreover',\n",
              "           'most',\n",
              "           'mostly',\n",
              "           'move',\n",
              "           'much',\n",
              "           'must',\n",
              "           'my',\n",
              "           'myself',\n",
              "           'name',\n",
              "           'namely',\n",
              "           'neither',\n",
              "           'never',\n",
              "           'nevertheless',\n",
              "           'next',\n",
              "           'nine',\n",
              "           'no',\n",
              "           'nobody',\n",
              "           'none',\n",
              "           'noone',\n",
              "           'nor',\n",
              "           'not',\n",
              "           'nothing',\n",
              "           'now',\n",
              "           'nowhere',\n",
              "           'of',\n",
              "           'off',\n",
              "           'often',\n",
              "           'on',\n",
              "           'once',\n",
              "           'one',\n",
              "           'only',\n",
              "           'onto',\n",
              "           'or',\n",
              "           'other',\n",
              "           'others',\n",
              "           'otherwise',\n",
              "           'our',\n",
              "           'ours',\n",
              "           'ourselves',\n",
              "           'out',\n",
              "           'over',\n",
              "           'own',\n",
              "           'part',\n",
              "           'per',\n",
              "           'perhaps',\n",
              "           'please',\n",
              "           'put',\n",
              "           'quite',\n",
              "           'rather',\n",
              "           're',\n",
              "           'really',\n",
              "           'regarding',\n",
              "           'same',\n",
              "           'say',\n",
              "           'see',\n",
              "           'seem',\n",
              "           'seemed',\n",
              "           'seeming',\n",
              "           'seems',\n",
              "           'serious',\n",
              "           'several',\n",
              "           'she',\n",
              "           'should',\n",
              "           'show',\n",
              "           'side',\n",
              "           'since',\n",
              "           'sincere',\n",
              "           'six',\n",
              "           'sixty',\n",
              "           'so',\n",
              "           'some',\n",
              "           'somehow',\n",
              "           'someone',\n",
              "           'something',\n",
              "           'sometime',\n",
              "           'sometimes',\n",
              "           'somewhere',\n",
              "           'still',\n",
              "           'such',\n",
              "           'system',\n",
              "           'take',\n",
              "           'ten',\n",
              "           'than',\n",
              "           'that',\n",
              "           'the',\n",
              "           'their',\n",
              "           'them',\n",
              "           'themselves',\n",
              "           'then',\n",
              "           'thence',\n",
              "           'there',\n",
              "           'thereafter',\n",
              "           'thereby',\n",
              "           'therefore',\n",
              "           'therein',\n",
              "           'thereupon',\n",
              "           'these',\n",
              "           'they',\n",
              "           'thick',\n",
              "           'thin',\n",
              "           'third',\n",
              "           'this',\n",
              "           'those',\n",
              "           'though',\n",
              "           'three',\n",
              "           'through',\n",
              "           'throughout',\n",
              "           'thru',\n",
              "           'thus',\n",
              "           'to',\n",
              "           'together',\n",
              "           'too',\n",
              "           'top',\n",
              "           'toward',\n",
              "           'towards',\n",
              "           'twelve',\n",
              "           'twenty',\n",
              "           'two',\n",
              "           'un',\n",
              "           'under',\n",
              "           'unless',\n",
              "           'until',\n",
              "           'up',\n",
              "           'upon',\n",
              "           'us',\n",
              "           'used',\n",
              "           'using',\n",
              "           'various',\n",
              "           'very',\n",
              "           'via',\n",
              "           'was',\n",
              "           'we',\n",
              "           'well',\n",
              "           'were',\n",
              "           'what',\n",
              "           'whatever',\n",
              "           'when',\n",
              "           'whence',\n",
              "           'whenever',\n",
              "           'where',\n",
              "           'whereafter',\n",
              "           'whereas',\n",
              "           'whereby',\n",
              "           'wherein',\n",
              "           'whereupon',\n",
              "           'wherever',\n",
              "           'whether',\n",
              "           'which',\n",
              "           'while',\n",
              "           'whither',\n",
              "           'who',\n",
              "           'whoever',\n",
              "           'whole',\n",
              "           'whom',\n",
              "           'whose',\n",
              "           'why',\n",
              "           'will',\n",
              "           'with',\n",
              "           'within',\n",
              "           'without',\n",
              "           'would',\n",
              "           'yet',\n",
              "           'you',\n",
              "           'your',\n",
              "           'yours',\n",
              "           'yourself',\n",
              "           'yourselves'})"
            ]
          },
          "metadata": {},
          "execution_count": 15
        }
      ]
    },
    {
      "cell_type": "code",
      "source": [
        "tokens_without_stopwords = [word for word in tokens if word not in all_stopwords]"
      ],
      "metadata": {
        "id": "eQ9hejbfENXy"
      },
      "execution_count": 16,
      "outputs": []
    },
    {
      "cell_type": "code",
      "source": [
        "tokens_without_stopwords"
      ],
      "metadata": {
        "colab": {
          "base_uri": "https://localhost:8080/"
        },
        "id": "mcHnfPz9Eb52",
        "outputId": "7aba8f7c-dfca-4bb7-c493-9431ccc7af8d"
      },
      "execution_count": 17,
      "outputs": [
        {
          "output_type": "execute_result",
          "data": {
            "text/plain": [
              "['My', 'Swara', 'like', 'play', 'chess', '.']"
            ]
          },
          "metadata": {},
          "execution_count": 17
        }
      ]
    },
    {
      "cell_type": "code",
      "source": [
        "all_stopwords = all_stopwords.union({\"play\"})"
      ],
      "metadata": {
        "id": "AOn_hlV4IGm6"
      },
      "execution_count": 18,
      "outputs": []
    },
    {
      "cell_type": "code",
      "source": [
        "tokens_without_stopwords = [word for word in tokens if word not in all_stopwords]"
      ],
      "metadata": {
        "id": "BuuY7P_bIQaf"
      },
      "execution_count": 19,
      "outputs": []
    },
    {
      "cell_type": "code",
      "source": [
        "tokens_without_stopwords"
      ],
      "metadata": {
        "colab": {
          "base_uri": "https://localhost:8080/"
        },
        "id": "NFSwgF_uIQF7",
        "outputId": "08e046a4-f49e-4341-dc24-56661069b967"
      },
      "execution_count": 20,
      "outputs": [
        {
          "output_type": "execute_result",
          "data": {
            "text/plain": [
              "['My', 'Swara', 'like', 'chess', '.']"
            ]
          },
          "metadata": {},
          "execution_count": 20
        }
      ]
    },
    {
      "cell_type": "code",
      "source": [
        "all_stopwords = all_stopwords.difference({\"name\"})"
      ],
      "metadata": {
        "id": "ImHqndLsEfgm"
      },
      "execution_count": 21,
      "outputs": []
    },
    {
      "cell_type": "code",
      "source": [
        "tokens_without_stopwords = [word for word in tokens if word not in all_stopwords]"
      ],
      "metadata": {
        "id": "Xs5Nm_N5Esli"
      },
      "execution_count": 22,
      "outputs": []
    },
    {
      "cell_type": "code",
      "source": [
        "tokens_without_stopwords"
      ],
      "metadata": {
        "colab": {
          "base_uri": "https://localhost:8080/"
        },
        "id": "S_wUpO56E_tm",
        "outputId": "9b53f49b-34fd-4440-9c9e-45d3f6ea265d"
      },
      "execution_count": 23,
      "outputs": [
        {
          "output_type": "execute_result",
          "data": {
            "text/plain": [
              "['My', 'name', 'Swara', 'like', 'chess', '.']"
            ]
          },
          "metadata": {},
          "execution_count": 23
        }
      ]
    },
    {
      "cell_type": "code",
      "source": [],
      "metadata": {
        "id": "NWV5j1saFEG6"
      },
      "execution_count": 23,
      "outputs": []
    }
  ]
}