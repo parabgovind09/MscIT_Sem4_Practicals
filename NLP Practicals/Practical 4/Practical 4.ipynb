{
 "cells": [
  {
   "cell_type": "code",
   "execution_count": 1,
   "id": "f4be5008-8898-4792-bfe6-5eba000ee3b8",
   "metadata": {},
   "outputs": [],
   "source": [
    "#study porter stemmer, lancaster stemmer, regexp stemmer, snowball stemmer and wordnet stemmer"
   ]
  },
  {
   "cell_type": "code",
   "execution_count": 2,
   "id": "fb17af6b-a608-4346-99c7-1194ab172757",
   "metadata": {},
   "outputs": [
    {
     "name": "stdout",
     "output_type": "stream",
     "text": [
      "Requirement already satisfied: nltk in c:\\users\\minal\\appdata\\local\\programs\\python\\python39\\lib\\site-packages (3.8.1)\n",
      "Requirement already satisfied: click in c:\\users\\minal\\appdata\\local\\programs\\python\\python39\\lib\\site-packages (from nltk) (8.1.7)\n",
      "Requirement already satisfied: tqdm in c:\\users\\minal\\appdata\\local\\programs\\python\\python39\\lib\\site-packages (from nltk) (4.66.5)\n",
      "Requirement already satisfied: joblib in c:\\users\\minal\\appdata\\local\\programs\\python\\python39\\lib\\site-packages (from nltk) (1.4.2)\n",
      "Requirement already satisfied: regex>=2021.8.3 in c:\\users\\minal\\appdata\\local\\programs\\python\\python39\\lib\\site-packages (from nltk) (2024.5.15)\n",
      "Requirement already satisfied: colorama; platform_system == \"Windows\" in c:\\users\\minal\\appdata\\local\\programs\\python\\python39\\lib\\site-packages (from click->nltk) (0.4.6)\n"
     ]
    },
    {
     "name": "stderr",
     "output_type": "stream",
     "text": [
      "WARNING: You are using pip version 20.2.3; however, version 24.2 is available.\n",
      "You should consider upgrading via the 'c:\\users\\minal\\appdata\\local\\programs\\python\\python39\\python.exe -m pip install --upgrade pip' command.\n"
     ]
    }
   ],
   "source": [
    "!pip install nltk"
   ]
  },
  {
   "cell_type": "code",
   "execution_count": 3,
   "id": "bb8f8589-0d9b-4b95-9d9c-4d8787dd4581",
   "metadata": {},
   "outputs": [],
   "source": [
    "import nltk"
   ]
  },
  {
   "cell_type": "code",
   "execution_count": 4,
   "id": "5ecf9ead-7617-4c33-bcef-11208500848f",
   "metadata": {},
   "outputs": [
    {
     "data": {
      "text/plain": [
       "'write'"
      ]
     },
     "execution_count": 4,
     "metadata": {},
     "output_type": "execute_result"
    }
   ],
   "source": [
    "from nltk.stem import PorterStemmer\n",
    "\n",
    "stemmer1 = PorterStemmer()\n",
    "\n",
    "stemmer1.stem(\"writing\")"
   ]
  },
  {
   "cell_type": "code",
   "execution_count": 5,
   "id": "15775768-9558-4be8-8039-64578fbfda91",
   "metadata": {},
   "outputs": [
    {
     "data": {
      "text/plain": [
       "'writ'"
      ]
     },
     "execution_count": 5,
     "metadata": {},
     "output_type": "execute_result"
    }
   ],
   "source": [
    "from nltk.stem import LancasterStemmer\n",
    "\n",
    "stemmer2 = LancasterStemmer()\n",
    "\n",
    "stemmer2.stem(\"writing\")"
   ]
  },
  {
   "cell_type": "code",
   "execution_count": 6,
   "id": "079c2d26-dd1e-4447-986e-5f601ab67ebb",
   "metadata": {},
   "outputs": [
    {
     "data": {
      "text/plain": [
       "'write'"
      ]
     },
     "execution_count": 6,
     "metadata": {},
     "output_type": "execute_result"
    }
   ],
   "source": [
    "from nltk.stem import SnowballStemmer\n",
    "\n",
    "stemmer3 = SnowballStemmer(\"english\")\n",
    "\n",
    "stemmer3.stem(\"writing\")"
   ]
  },
  {
   "cell_type": "code",
   "execution_count": 7,
   "id": "6806b29c-dac4-45ef-8266-f6e1cbe5a67c",
   "metadata": {},
   "outputs": [
    {
     "name": "stdout",
     "output_type": "stream",
     "text": [
      "push\n",
      "pushs\n",
      "push\n",
      "push\n",
      "push\n",
      "writ\n"
     ]
    }
   ],
   "source": [
    "from nltk.stem import RegexpStemmer\n",
    "\n",
    "stemmer4 = RegexpStemmer(\"ing$|ed$|able$\")\n",
    "\n",
    "print(stemmer4.stem(\"push\"))\n",
    "print(stemmer4.stem(\"pushs\"))\n",
    "print(stemmer4.stem(\"pushable\"))\n",
    "print(stemmer4.stem(\"pushed\"))\n",
    "print(stemmer4.stem(\"pushing\"))\n",
    "print(stemmer4.stem(\"writing\"))"
   ]
  },
  {
   "cell_type": "code",
   "execution_count": 8,
   "id": "f823a5a8-e7f6-4058-aeb2-d5c70893a599",
   "metadata": {},
   "outputs": [
    {
     "name": "stderr",
     "output_type": "stream",
     "text": [
      "[nltk_data] Downloading package wordnet to\n",
      "[nltk_data]     C:\\Users\\Minal\\AppData\\Roaming\\nltk_data...\n",
      "[nltk_data]   Package wordnet is already up-to-date!\n"
     ]
    },
    {
     "data": {
      "text/plain": [
       "True"
      ]
     },
     "execution_count": 8,
     "metadata": {},
     "output_type": "execute_result"
    }
   ],
   "source": [
    "nltk.download(\"wordnet\")"
   ]
  },
  {
   "cell_type": "code",
   "execution_count": 9,
   "id": "862eb1aa-769d-40fc-9e06-bfb2906523db",
   "metadata": {},
   "outputs": [
    {
     "data": {
      "text/plain": [
       "'good'"
      ]
     },
     "execution_count": 9,
     "metadata": {},
     "output_type": "execute_result"
    }
   ],
   "source": [
    "from nltk.stem import WordNetLemmatizer\n",
    "\n",
    "stemmer5 = WordNetLemmatizer()\n",
    "\n",
    "stemmer5.lemmatize(\"rocks\")\n",
    "\n",
    "stemmer5.lemmatize(\"better\",pos='a')"
   ]
  }
 ],
 "metadata": {
  "kernelspec": {
   "display_name": "Python 3 (ipykernel)",
   "language": "python",
   "name": "python3"
  },
  "language_info": {
   "codemirror_mode": {
    "name": "ipython",
    "version": 3
   },
   "file_extension": ".py",
   "mimetype": "text/x-python",
   "name": "python",
   "nbconvert_exporter": "python",
   "pygments_lexer": "ipython3",
   "version": "3.9.2"
  }
 },
 "nbformat": 4,
 "nbformat_minor": 5
}
