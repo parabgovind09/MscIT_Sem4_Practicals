{
 "cells": [
  {
   "cell_type": "code",
   "execution_count": 1,
   "id": "e5d84eee-a3d8-4687-9e37-6831d8628d57",
   "metadata": {},
   "outputs": [],
   "source": [
    "# Practical 8 :- Different methods of wordnet dictionary\n",
    "# lemma, hypernyms, hyponyms, name, definition, example, antonyms"
   ]
  },
  {
   "cell_type": "code",
   "execution_count": 2,
   "id": "af1ae074-653f-4327-8e03-b91f5fe508db",
   "metadata": {},
   "outputs": [
    {
     "name": "stdout",
     "output_type": "stream",
     "text": [
      "Requirement already satisfied: nltk in c:\\users\\minal\\appdata\\local\\programs\\python\\python39\\lib\\site-packages (3.8.1)\n",
      "Requirement already satisfied: click in c:\\users\\minal\\appdata\\local\\programs\\python\\python39\\lib\\site-packages (from nltk) (8.1.7)\n",
      "Requirement already satisfied: regex>=2021.8.3 in c:\\users\\minal\\appdata\\local\\programs\\python\\python39\\lib\\site-packages (from nltk) (2024.5.15)\n",
      "Requirement already satisfied: joblib in c:\\users\\minal\\appdata\\local\\programs\\python\\python39\\lib\\site-packages (from nltk) (1.4.2)\n",
      "Requirement already satisfied: tqdm in c:\\users\\minal\\appdata\\local\\programs\\python\\python39\\lib\\site-packages (from nltk) (4.66.5)\n",
      "Requirement already satisfied: colorama; platform_system == \"Windows\" in c:\\users\\minal\\appdata\\local\\programs\\python\\python39\\lib\\site-packages (from click->nltk) (0.4.6)\n"
     ]
    },
    {
     "name": "stderr",
     "output_type": "stream",
     "text": [
      "WARNING: You are using pip version 20.2.3; however, version 24.2 is available.\n",
      "You should consider upgrading via the 'c:\\users\\minal\\appdata\\local\\programs\\python\\python39\\python.exe -m pip install --upgrade pip' command.\n"
     ]
    }
   ],
   "source": [
    "!pip install nltk"
   ]
  },
  {
   "cell_type": "code",
   "execution_count": 3,
   "id": "85b5c2ee-cded-4628-a24a-53b5969698cb",
   "metadata": {},
   "outputs": [],
   "source": [
    "import nltk"
   ]
  },
  {
   "cell_type": "code",
   "execution_count": 4,
   "id": "ef5128ed-420c-4ea2-964d-50fef9f61d2a",
   "metadata": {},
   "outputs": [],
   "source": [
    "from nltk.corpus import wordnet"
   ]
  },
  {
   "cell_type": "code",
   "execution_count": 5,
   "id": "42915533-fb1d-466b-a73f-75e7a444bbec",
   "metadata": {},
   "outputs": [],
   "source": [
    "buy_syn = wordnet.synsets(\"buy\")"
   ]
  },
  {
   "cell_type": "code",
   "execution_count": 6,
   "id": "b1c6f74f-7a14-432e-8510-37f5397f6150",
   "metadata": {},
   "outputs": [
    {
     "name": "stdout",
     "output_type": "stream",
     "text": [
      "[Synset('bargain.n.02'), Synset('buy.v.01'), Synset('bribe.v.01'), Synset('buy.v.03'), Synset('buy.v.04'), Synset('buy.v.05')]\n"
     ]
    }
   ],
   "source": [
    "print(buy_syn)"
   ]
  },
  {
   "cell_type": "code",
   "execution_count": 7,
   "id": "1e66ebc8-7dfc-4eb6-a538-3ef065a7ed13",
   "metadata": {},
   "outputs": [
    {
     "name": "stdout",
     "output_type": "stream",
     "text": [
      "bargain.n.02\n"
     ]
    }
   ],
   "source": [
    "print(buy_syn[0].name())"
   ]
  },
  {
   "cell_type": "code",
   "execution_count": 8,
   "id": "45aaf43d-4ecf-4558-a884-3d5e5e018eeb",
   "metadata": {},
   "outputs": [
    {
     "name": "stdout",
     "output_type": "stream",
     "text": [
      "an advantageous purchase\n"
     ]
    }
   ],
   "source": [
    "print(buy_syn[0].definition())"
   ]
  },
  {
   "cell_type": "code",
   "execution_count": 9,
   "id": "ed0c4821-97cd-476c-baea-b7f28d359b6f",
   "metadata": {},
   "outputs": [
    {
     "name": "stdout",
     "output_type": "stream",
     "text": [
      "['she got a bargain at the auction', 'the stock was a real buy at that price']\n"
     ]
    }
   ],
   "source": [
    "print(buy_syn[0].examples())"
   ]
  },
  {
   "cell_type": "code",
   "execution_count": 10,
   "id": "1acfa9c7-3850-4957-96ce-8e3860b79a8a",
   "metadata": {},
   "outputs": [
    {
     "name": "stdout",
     "output_type": "stream",
     "text": [
      "[Lemma('sell.v.01.sell')]\n"
     ]
    }
   ],
   "source": [
    "print(wordnet.lemma('buy.v.01.buy').antonyms())"
   ]
  },
  {
   "cell_type": "code",
   "execution_count": 11,
   "id": "fbf13435-6148-41dc-b523-b06323362c15",
   "metadata": {},
   "outputs": [],
   "source": [
    "good_syn = wordnet.synsets(\"good\")"
   ]
  },
  {
   "cell_type": "code",
   "execution_count": 12,
   "id": "b8d3fc3e-a47c-4bfe-8208-4c4453443afa",
   "metadata": {},
   "outputs": [
    {
     "name": "stdout",
     "output_type": "stream",
     "text": [
      "[Synset('good.n.01'), Synset('good.n.02'), Synset('good.n.03'), Synset('commodity.n.01'), Synset('good.a.01'), Synset('full.s.06'), Synset('good.a.03'), Synset('estimable.s.02'), Synset('beneficial.s.01'), Synset('good.s.06'), Synset('good.s.07'), Synset('adept.s.01'), Synset('good.s.09'), Synset('dear.s.02'), Synset('dependable.s.04'), Synset('good.s.12'), Synset('good.s.13'), Synset('effective.s.04'), Synset('good.s.15'), Synset('good.s.16'), Synset('good.s.17'), Synset('good.s.18'), Synset('good.s.19'), Synset('good.s.20'), Synset('good.s.21'), Synset('well.r.01'), Synset('thoroughly.r.02')]\n"
     ]
    }
   ],
   "source": [
    "print(good_syn)"
   ]
  },
  {
   "cell_type": "code",
   "execution_count": 13,
   "id": "da564838-f9ad-404d-86f1-17efa9a8e25b",
   "metadata": {},
   "outputs": [
    {
     "name": "stdout",
     "output_type": "stream",
     "text": [
      "good.n.01\n"
     ]
    }
   ],
   "source": [
    "print(good_syn[0].name())"
   ]
  },
  {
   "cell_type": "code",
   "execution_count": 14,
   "id": "ccf7feb0-dc5c-4d87-9e0c-6e0ec7902283",
   "metadata": {},
   "outputs": [
    {
     "name": "stdout",
     "output_type": "stream",
     "text": [
      "benefit\n"
     ]
    }
   ],
   "source": [
    "print(good_syn[0].definition())"
   ]
  },
  {
   "cell_type": "code",
   "execution_count": 15,
   "id": "e199fb18-7c6c-4395-84e4-df995f7349cc",
   "metadata": {},
   "outputs": [
    {
     "name": "stdout",
     "output_type": "stream",
     "text": [
      "['for your own good', \"what's the good of worrying?\"]\n"
     ]
    }
   ],
   "source": [
    "print(good_syn[0].examples())"
   ]
  },
  {
   "cell_type": "code",
   "execution_count": 16,
   "id": "16587e87-9c02-4d3c-b5bf-6e988c48d3d7",
   "metadata": {},
   "outputs": [
    {
     "name": "stdout",
     "output_type": "stream",
     "text": [
      "[Lemma('evil.n.03.evil')]\n"
     ]
    }
   ],
   "source": [
    "print(wordnet.lemma('good.n.02.good').antonyms())"
   ]
  },
  {
   "cell_type": "code",
   "execution_count": 17,
   "id": "0aa407b6-2dc5-44d9-89c2-4e7cbd0a05b8",
   "metadata": {},
   "outputs": [],
   "source": [
    "computer_syn = wordnet.synsets(\"computer\")"
   ]
  },
  {
   "cell_type": "code",
   "execution_count": 18,
   "id": "591fe065-ebc5-41cb-b410-a09a5f7f8d1e",
   "metadata": {},
   "outputs": [
    {
     "name": "stdout",
     "output_type": "stream",
     "text": [
      "[Synset('computer.n.01'), Synset('calculator.n.01')]\n"
     ]
    }
   ],
   "source": [
    "print(computer_syn)"
   ]
  },
  {
   "cell_type": "code",
   "execution_count": 19,
   "id": "4f96f4b8-ddaf-43dc-8039-720d8411e755",
   "metadata": {},
   "outputs": [
    {
     "name": "stdout",
     "output_type": "stream",
     "text": [
      "['computer', 'computing_machine', 'computing_device', 'data_processor', 'electronic_computer', 'information_processing_system']\n"
     ]
    }
   ],
   "source": [
    "print(wordnet.synset('computer.n.01').lemma_names())"
   ]
  },
  {
   "cell_type": "code",
   "execution_count": 20,
   "id": "d078850a-c2ea-4fc0-b70a-75bb497bdf3d",
   "metadata": {},
   "outputs": [
    {
     "name": "stdout",
     "output_type": "stream",
     "text": [
      "['calculator', 'reckoner', 'figurer', 'estimator', 'computer']\n"
     ]
    }
   ],
   "source": [
    "print(wordnet.synset('calculator.n.01').lemma_names())"
   ]
  },
  {
   "cell_type": "code",
   "execution_count": 21,
   "id": "61076121-86d8-4356-b60b-d0b44b132f68",
   "metadata": {},
   "outputs": [],
   "source": [
    "color_syn = wordnet.synsets(\"color\")"
   ]
  },
  {
   "cell_type": "code",
   "execution_count": 22,
   "id": "8df514fc-2619-4781-8210-c9fc38802816",
   "metadata": {},
   "outputs": [
    {
     "name": "stdout",
     "output_type": "stream",
     "text": [
      "[Synset('color.n.01'), Synset('color.n.02'), Synset('color.n.03'), Synset('color.n.04'), Synset('semblance.n.01'), Synset('coloring_material.n.01'), Synset('color.n.07'), Synset('color.n.08'), Synset('color.v.01'), Synset('tinge.v.01'), Synset('color.v.03'), Synset('color.v.04'), Synset('color.v.05'), Synset('discolor.v.03'), Synset('color.a.01')]\n"
     ]
    }
   ],
   "source": [
    "print(color_syn)"
   ]
  },
  {
   "cell_type": "code",
   "execution_count": 23,
   "id": "c8515be8-cd80-4129-a69e-810d61d10a14",
   "metadata": {},
   "outputs": [
    {
     "name": "stdout",
     "output_type": "stream",
     "text": [
      "[Synset('achromatic_color.n.01'), Synset('chromatic_color.n.01'), Synset('coloration.n.02'), Synset('complexion.n.01'), Synset('heather_mixture.n.01'), Synset('mottle.n.01'), Synset('nonsolid_color.n.01'), Synset('primary_color.n.01'), Synset('shade.n.02')]\n"
     ]
    }
   ],
   "source": [
    "print(color_syn[0].hyponyms())"
   ]
  },
  {
   "cell_type": "code",
   "execution_count": 24,
   "id": "d62410e9-aac3-4b45-91b5-694cccc99076",
   "metadata": {},
   "outputs": [
    {
     "name": "stdout",
     "output_type": "stream",
     "text": [
      "[Synset('visual_property.n.01')]\n"
     ]
    }
   ],
   "source": [
    "print(color_syn[0].hypernyms())"
   ]
  },
  {
   "cell_type": "code",
   "execution_count": 25,
   "id": "ea280095-fbbf-4991-abad-addd9f598ff3",
   "metadata": {},
   "outputs": [
    {
     "name": "stdout",
     "output_type": "stream",
     "text": [
      "['chromatic_color', 'chromatic_colour', 'spectral_color', 'spectral_colour']\n"
     ]
    }
   ],
   "source": [
    "print(wordnet.synset('chromatic_color.n.01').lemma_names())"
   ]
  },
  {
   "cell_type": "code",
   "execution_count": 26,
   "id": "80f90b5d-3460-4e0c-a3a6-124ae743811f",
   "metadata": {},
   "outputs": [
    {
     "name": "stdout",
     "output_type": "stream",
     "text": [
      "[Lemma('achromatic_color.n.01.achromatic_color')]\n"
     ]
    }
   ],
   "source": [
    "print(wordnet.lemma('chromatic_color.n.01.chromatic_color').antonyms())"
   ]
  }
 ],
 "metadata": {
  "kernelspec": {
   "display_name": "Python 3 (ipykernel)",
   "language": "python",
   "name": "python3"
  },
  "language_info": {
   "codemirror_mode": {
    "name": "ipython",
    "version": 3
   },
   "file_extension": ".py",
   "mimetype": "text/x-python",
   "name": "python",
   "nbconvert_exporter": "python",
   "pygments_lexer": "ipython3",
   "version": "3.9.2"
  }
 },
 "nbformat": 4,
 "nbformat_minor": 5
}
