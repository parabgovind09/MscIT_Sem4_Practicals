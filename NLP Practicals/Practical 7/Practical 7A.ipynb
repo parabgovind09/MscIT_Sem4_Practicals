{
 "cells": [
  {
   "cell_type": "code",
   "execution_count": 1,
   "id": "a5378000-02a0-44bc-95f8-f1b93f4c3d62",
   "metadata": {},
   "outputs": [],
   "source": [
    "# Practical 7 :- Illusrate part of specch tagging."
   ]
  },
  {
   "cell_type": "code",
   "execution_count": 2,
   "id": "0dbceaf0-312c-426b-948d-c3bfe85a7280",
   "metadata": {},
   "outputs": [],
   "source": [
    "# Practical 7A :- Part of Speech Tagging and Chunking of user defined text."
   ]
  },
  {
   "cell_type": "code",
   "execution_count": 3,
   "id": "c2a99325-27f3-460e-b440-d12c80d47a71",
   "metadata": {},
   "outputs": [
    {
     "name": "stdout",
     "output_type": "stream",
     "text": [
      "Requirement already satisfied: nltk in c:\\users\\minal\\appdata\\local\\programs\\python\\python39\\lib\\site-packages (3.8.1)\n",
      "Requirement already satisfied: regex>=2021.8.3 in c:\\users\\minal\\appdata\\local\\programs\\python\\python39\\lib\\site-packages (from nltk) (2024.5.15)\n",
      "Requirement already satisfied: tqdm in c:\\users\\minal\\appdata\\local\\programs\\python\\python39\\lib\\site-packages (from nltk) (4.66.5)\n",
      "Requirement already satisfied: click in c:\\users\\minal\\appdata\\local\\programs\\python\\python39\\lib\\site-packages (from nltk) (8.1.7)\n",
      "Requirement already satisfied: joblib in c:\\users\\minal\\appdata\\local\\programs\\python\\python39\\lib\\site-packages (from nltk) (1.4.2)\n",
      "Requirement already satisfied: colorama; platform_system == \"Windows\" in c:\\users\\minal\\appdata\\local\\programs\\python\\python39\\lib\\site-packages (from tqdm->nltk) (0.4.6)\n"
     ]
    },
    {
     "name": "stderr",
     "output_type": "stream",
     "text": [
      "WARNING: You are using pip version 20.2.3; however, version 24.2 is available.\n",
      "You should consider upgrading via the 'c:\\users\\minal\\appdata\\local\\programs\\python\\python39\\python.exe -m pip install --upgrade pip' command.\n"
     ]
    }
   ],
   "source": [
    "!pip install nltk"
   ]
  },
  {
   "cell_type": "code",
   "execution_count": 4,
   "id": "b61211dd-417b-4207-afdb-dc83b9bf47d8",
   "metadata": {},
   "outputs": [],
   "source": [
    "import nltk"
   ]
  },
  {
   "cell_type": "code",
   "execution_count": 5,
   "id": "9b7f09db-d8d5-4a3e-9f3d-15aa1f9cd2a6",
   "metadata": {},
   "outputs": [
    {
     "name": "stderr",
     "output_type": "stream",
     "text": [
      "[nltk_data] Downloading package punkt to\n",
      "[nltk_data]     C:\\Users\\Minal\\AppData\\Roaming\\nltk_data...\n",
      "[nltk_data]   Package punkt is already up-to-date!\n"
     ]
    },
    {
     "data": {
      "text/plain": [
       "True"
      ]
     },
     "execution_count": 5,
     "metadata": {},
     "output_type": "execute_result"
    }
   ],
   "source": [
    "nltk.download(\"punkt\")"
   ]
  },
  {
   "cell_type": "code",
   "execution_count": 6,
   "id": "be9a45f6-3cea-4716-8d34-59a561d34a58",
   "metadata": {},
   "outputs": [
    {
     "name": "stderr",
     "output_type": "stream",
     "text": [
      "[nltk_data] Downloading package averaged_perceptron_tagger to\n",
      "[nltk_data]     C:\\Users\\Minal\\AppData\\Roaming\\nltk_data...\n",
      "[nltk_data]   Package averaged_perceptron_tagger is already up-to-\n",
      "[nltk_data]       date!\n"
     ]
    },
    {
     "data": {
      "text/plain": [
       "True"
      ]
     },
     "execution_count": 6,
     "metadata": {},
     "output_type": "execute_result"
    }
   ],
   "source": [
    "nltk.download(\"averaged_perceptron_tagger\")"
   ]
  },
  {
   "cell_type": "code",
   "execution_count": 7,
   "id": "30c21b18-f2a2-48b5-89e0-5527a8b00ca3",
   "metadata": {},
   "outputs": [
    {
     "name": "stderr",
     "output_type": "stream",
     "text": [
      "[nltk_data] Downloading package maxent_ne_chunker to\n",
      "[nltk_data]     C:\\Users\\Minal\\AppData\\Roaming\\nltk_data...\n",
      "[nltk_data]   Package maxent_ne_chunker is already up-to-date!\n"
     ]
    },
    {
     "data": {
      "text/plain": [
       "True"
      ]
     },
     "execution_count": 7,
     "metadata": {},
     "output_type": "execute_result"
    }
   ],
   "source": [
    "nltk.download(\"maxent_ne_chunker\")"
   ]
  },
  {
   "cell_type": "code",
   "execution_count": 8,
   "id": "be21ef4d-fea8-4f48-8ace-a21ec63e5df6",
   "metadata": {},
   "outputs": [
    {
     "name": "stderr",
     "output_type": "stream",
     "text": [
      "[nltk_data] Downloading package words to\n",
      "[nltk_data]     C:\\Users\\Minal\\AppData\\Roaming\\nltk_data...\n",
      "[nltk_data]   Package words is already up-to-date!\n"
     ]
    },
    {
     "data": {
      "text/plain": [
       "True"
      ]
     },
     "execution_count": 8,
     "metadata": {},
     "output_type": "execute_result"
    }
   ],
   "source": [
    "nltk.download(\"words\")"
   ]
  },
  {
   "cell_type": "code",
   "execution_count": 9,
   "id": "b1b79bc2-026e-4eb5-a4bd-d4d8e3054ef4",
   "metadata": {},
   "outputs": [],
   "source": [
    "from nltk.tokenize import word_tokenize"
   ]
  },
  {
   "cell_type": "code",
   "execution_count": 10,
   "id": "dca632d6-0e79-4e02-8165-df1697a54f07",
   "metadata": {},
   "outputs": [],
   "source": [
    "from nltk import tag"
   ]
  },
  {
   "cell_type": "code",
   "execution_count": 11,
   "id": "52947ea9-0dcc-460a-85c1-ac91f7a11e03",
   "metadata": {},
   "outputs": [],
   "source": [
    "from nltk import chunk"
   ]
  },
  {
   "cell_type": "code",
   "execution_count": 12,
   "id": "82026051-7567-4caf-bef4-41296ab5eaa3",
   "metadata": {},
   "outputs": [],
   "source": [
    "from nltk.tokenize import sent_tokenize"
   ]
  },
  {
   "cell_type": "code",
   "execution_count": 13,
   "id": "c557066b-4d60-4d8c-a5d1-5f0dace773ce",
   "metadata": {},
   "outputs": [],
   "source": [
    "text = \"Hello! My name is Raj Bindra. Today we will be learning NLTK.\""
   ]
  },
  {
   "cell_type": "code",
   "execution_count": 14,
   "id": "36a800af-39ca-4f4b-b928-7de7d020da42",
   "metadata": {},
   "outputs": [
    {
     "name": "stdout",
     "output_type": "stream",
     "text": [
      "Hello! My name is Raj Bindra. Today we will be learning NLTK.\n"
     ]
    }
   ],
   "source": [
    "print(text)"
   ]
  },
  {
   "cell_type": "code",
   "execution_count": 15,
   "id": "28f6525e-1e74-4082-bdae-35622ae0be45",
   "metadata": {},
   "outputs": [],
   "source": [
    "tokens = word_tokenize(text)"
   ]
  },
  {
   "cell_type": "code",
   "execution_count": 16,
   "id": "adbbad3c-7f17-494b-96f6-1e0e10db8253",
   "metadata": {},
   "outputs": [
    {
     "name": "stdout",
     "output_type": "stream",
     "text": [
      "['Hello', '!', 'My', 'name', 'is', 'Raj', 'Bindra', '.', 'Today', 'we', 'will', 'be', 'learning', 'NLTK', '.']\n"
     ]
    }
   ],
   "source": [
    "print(tokens)"
   ]
  },
  {
   "cell_type": "code",
   "execution_count": 17,
   "id": "00d8f6b2-b449-4a6d-8651-661d96371d4c",
   "metadata": {},
   "outputs": [],
   "source": [
    "sent_tokens = sent_tokenize(text)"
   ]
  },
  {
   "cell_type": "code",
   "execution_count": 18,
   "id": "799641dd-e806-431b-abec-aedbd2044d55",
   "metadata": {},
   "outputs": [
    {
     "name": "stdout",
     "output_type": "stream",
     "text": [
      "['Hello!', 'My name is Raj Bindra.', 'Today we will be learning NLTK.']\n"
     ]
    }
   ],
   "source": [
    "print(sent_tokens)"
   ]
  },
  {
   "cell_type": "code",
   "execution_count": 19,
   "id": "885e1831-215b-4e6b-8660-8640d92b5672",
   "metadata": {},
   "outputs": [
    {
     "name": "stdout",
     "output_type": "stream",
     "text": [
      "[['Hello', '!'], ['My', 'name', 'is', 'Raj', 'Bindra', '.'], ['Today', 'we', 'will', 'be', 'learning', 'NLTK', '.']]\n"
     ]
    }
   ],
   "source": [
    "sent_word_token = []\n",
    "for i in range(len(sent_tokens)):\n",
    "    sent_word_token.append(word_tokenize(sent_tokens[i]))\n",
    "print(sent_word_token)"
   ]
  },
  {
   "cell_type": "code",
   "execution_count": 20,
   "id": "f2d5b440-0d34-4835-b101-04ea3b888e10",
   "metadata": {},
   "outputs": [
    {
     "name": "stdout",
     "output_type": "stream",
     "text": [
      "[[('Hello', 'NN'), ('!', '.')], [('My', 'PRP$'), ('name', 'NN'), ('is', 'VBZ'), ('Raj', 'NNP'), ('Bindra', 'NNP'), ('.', '.')], [('Today', 'NN'), ('we', 'PRP'), ('will', 'MD'), ('be', 'VB'), ('learning', 'VBG'), ('NLTK', 'NNP'), ('.', '.')]]\n"
     ]
    }
   ],
   "source": [
    "tagged_words = []\n",
    "for i in range(len(sent_word_token)):\n",
    "    tagged_words.append(tag.pos_tag(sent_word_token[i]))\n",
    "print(tagged_words)"
   ]
  },
  {
   "cell_type": "code",
   "execution_count": 21,
   "id": "abd559bf-cb40-4414-88a6-daa1ed091c16",
   "metadata": {},
   "outputs": [
    {
     "name": "stdout",
     "output_type": "stream",
     "text": [
      "[Tree('S', [Tree('GPE', [('Hello', 'NN')]), ('!', '.')]), Tree('S', [('My', 'PRP$'), ('name', 'NN'), ('is', 'VBZ'), Tree('PERSON', [('Raj', 'NNP'), ('Bindra', 'NNP')]), ('.', '.')]), Tree('S', [('Today', 'NN'), ('we', 'PRP'), ('will', 'MD'), ('be', 'VB'), ('learning', 'VBG'), Tree('ORGANIZATION', [('NLTK', 'NNP')]), ('.', '.')])]\n"
     ]
    }
   ],
   "source": [
    "chunked_words = []\n",
    "for i in range(len(sent_word_token)):\n",
    "    chunked_words.append(chunk.ne_chunk(tagged_words[i]))\n",
    "print(chunked_words)"
   ]
  }
 ],
 "metadata": {
  "kernelspec": {
   "display_name": "Python 3 (ipykernel)",
   "language": "python",
   "name": "python3"
  },
  "language_info": {
   "codemirror_mode": {
    "name": "ipython",
    "version": 3
   },
   "file_extension": ".py",
   "mimetype": "text/x-python",
   "name": "python",
   "nbconvert_exporter": "python",
   "pygments_lexer": "ipython3",
   "version": "3.9.2"
  }
 },
 "nbformat": 4,
 "nbformat_minor": 5
}
