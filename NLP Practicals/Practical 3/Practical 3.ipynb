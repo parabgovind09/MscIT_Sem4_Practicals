{
 "cells": [
  {
   "cell_type": "code",
   "execution_count": 10,
   "id": "92e49468-729f-4137-a648-b8905a69ebd7",
   "metadata": {},
   "outputs": [],
   "source": [
    "# Practical 3 :- Multiword expression in NLP"
   ]
  },
  {
   "cell_type": "code",
   "execution_count": null,
   "id": "f3457937-1892-4706-8d38-f614de715f73",
   "metadata": {},
   "outputs": [],
   "source": [
    "!pip install nltk"
   ]
  },
  {
   "cell_type": "code",
   "execution_count": 3,
   "id": "b3fc34fe-fc84-445f-9ffa-8ab82e7e101a",
   "metadata": {},
   "outputs": [],
   "source": [
    "import nltk"
   ]
  },
  {
   "cell_type": "code",
   "execution_count": 4,
   "id": "0d929060-731f-4400-84c3-3fce66919bf4",
   "metadata": {},
   "outputs": [],
   "source": [
    "from nltk.tokenize import MWETokenizer"
   ]
  },
  {
   "cell_type": "code",
   "execution_count": 5,
   "id": "fc3149c2-6327-4cdf-830a-467ed5bf7f8c",
   "metadata": {},
   "outputs": [],
   "source": [
    "tokenizer = MWETokenizer([('a','little'),('a','lot'),('a','little','bit')])"
   ]
  },
  {
   "cell_type": "code",
   "execution_count": 6,
   "id": "f39fd1d4-76a6-4576-9491-d9f26f80e8fc",
   "metadata": {},
   "outputs": [],
   "source": [
    "tokenizer.add_mwe(('in','spite','of'))"
   ]
  },
  {
   "cell_type": "code",
   "execution_count": 7,
   "id": "def1fb2a-668a-47e3-9225-4091f26de89d",
   "metadata": {},
   "outputs": [
    {
     "data": {
      "text/plain": [
       "['Testing', 'Testing', 'Testing', 'one', 'two', 'three']"
      ]
     },
     "execution_count": 7,
     "metadata": {},
     "output_type": "execute_result"
    }
   ],
   "source": [
    "tokenizer.tokenize(\"Testing Testing Testing one two three\".split())"
   ]
  },
  {
   "cell_type": "code",
   "execution_count": 8,
   "id": "aaf83e5b-251f-4810-911f-8985718c5117",
   "metadata": {},
   "outputs": [
    {
     "data": {
      "text/plain": [
       "['This', 'is', 'a', 'test', 'in', 'spite']"
      ]
     },
     "execution_count": 8,
     "metadata": {},
     "output_type": "execute_result"
    }
   ],
   "source": [
    "tokenizer.tokenize(\"This is a test in spite\".split())"
   ]
  },
  {
   "cell_type": "code",
   "execution_count": 9,
   "id": "5b620298-688c-471e-acb2-726da2fcbe6a",
   "metadata": {},
   "outputs": [
    {
     "data": {
      "text/plain": [
       "['Having',\n",
       " 'a_little',\n",
       " 'or',\n",
       " 'a_little_bit',\n",
       " 'or',\n",
       " 'a_lot',\n",
       " 'of',\n",
       " 'trouble',\n",
       " 'in_spite_of',\n",
       " 'warning']"
      ]
     },
     "execution_count": 9,
     "metadata": {},
     "output_type": "execute_result"
    }
   ],
   "source": [
    "tokenizer.tokenize(\"Having a little or a little bit or a lot of trouble in spite of warning\".split())"
   ]
  },
  {
   "cell_type": "code",
   "execution_count": null,
   "id": "0d4fc7af-3be0-4512-a23a-81143124f0df",
   "metadata": {},
   "outputs": [],
   "source": []
  }
 ],
 "metadata": {
  "kernelspec": {
   "display_name": "Python 3 (ipykernel)",
   "language": "python",
   "name": "python3"
  },
  "language_info": {
   "codemirror_mode": {
    "name": "ipython",
    "version": 3
   },
   "file_extension": ".py",
   "mimetype": "text/x-python",
   "name": "python",
   "nbconvert_exporter": "python",
   "pygments_lexer": "ipython3",
   "version": "3.9.2"
  }
 },
 "nbformat": 4,
 "nbformat_minor": 5
}
