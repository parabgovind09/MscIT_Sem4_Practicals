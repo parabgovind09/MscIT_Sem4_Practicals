{
 "cells": [
  {
   "cell_type": "code",
   "execution_count": 1,
   "id": "47f7951a-d113-416f-9821-28e50a59ed61",
   "metadata": {},
   "outputs": [],
   "source": [
    "# Practical 2A :- Tokenization using python split function"
   ]
  },
  {
   "cell_type": "code",
   "execution_count": 2,
   "id": "761e16f8-ef55-4fde-81e3-2cf2efe9133f",
   "metadata": {},
   "outputs": [],
   "source": [
    "text = \"Dog is a pet animal. It is the oldest friend of human beings. It watches our house. It is very faithful animal and never left his master. It is used by police to fight crime. Sheep- rearers also use them. Thus it is useful for us in many ways. Cow is important cattle. It is reared all over the world for milk. In India it is a holy animal. Many people worship it. In rural area it fulfills the need of protein. Its waste is also used for making dung. We must protect it as a valuable asset.\""
   ]
  },
  {
   "cell_type": "code",
   "execution_count": 3,
   "id": "c8937b65-3b5f-4c05-94a9-ee9e46e591fe",
   "metadata": {},
   "outputs": [
    {
     "name": "stdout",
     "output_type": "stream",
     "text": [
      "Dog is a pet animal. It is the oldest friend of human beings. It watches our house. It is very faithful animal and never left his master. It is used by police to fight crime. Sheep- rearers also use them. Thus it is useful for us in many ways. Cow is important cattle. It is reared all over the world for milk. In India it is a holy animal. Many people worship it. In rural area it fulfills the need of protein. Its waste is also used for making dung. We must protect it as a valuable asset.\n"
     ]
    }
   ],
   "source": [
    "print(text)"
   ]
  },
  {
   "cell_type": "code",
   "execution_count": 4,
   "id": "c752adbc-b479-41b1-a414-c32231ddaf95",
   "metadata": {},
   "outputs": [],
   "source": [
    "sentence_tokens = text.split(\". \") "
   ]
  },
  {
   "cell_type": "code",
   "execution_count": 5,
   "id": "32256d29-4466-425f-91e4-69ebac363f70",
   "metadata": {},
   "outputs": [
    {
     "data": {
      "text/plain": [
       "['Dog is a pet animal',\n",
       " 'It is the oldest friend of human beings',\n",
       " 'It watches our house',\n",
       " 'It is very faithful animal and never left his master',\n",
       " 'It is used by police to fight crime',\n",
       " 'Sheep- rearers also use them',\n",
       " 'Thus it is useful for us in many ways',\n",
       " 'Cow is important cattle',\n",
       " 'It is reared all over the world for milk',\n",
       " 'In India it is a holy animal',\n",
       " 'Many people worship it',\n",
       " 'In rural area it fulfills the need of protein',\n",
       " 'Its waste is also used for making dung',\n",
       " 'We must protect it as a valuable asset.']"
      ]
     },
     "execution_count": 5,
     "metadata": {},
     "output_type": "execute_result"
    }
   ],
   "source": [
    "sentence_tokens"
   ]
  },
  {
   "cell_type": "code",
   "execution_count": 6,
   "id": "75cf0cbb-6140-4d81-b777-07b0a6fa9530",
   "metadata": {},
   "outputs": [
    {
     "name": "stdout",
     "output_type": "stream",
     "text": [
      "Dog is a pet animal\n",
      "It is the oldest friend of human beings\n",
      "It watches our house\n",
      "It is very faithful animal and never left his master\n",
      "It is used by police to fight crime\n",
      "Sheep- rearers also use them\n",
      "Thus it is useful for us in many ways\n",
      "Cow is important cattle\n",
      "It is reared all over the world for milk\n",
      "In India it is a holy animal\n",
      "Many people worship it\n",
      "In rural area it fulfills the need of protein\n",
      "Its waste is also used for making dung\n",
      "We must protect it as a valuable asset.\n"
     ]
    }
   ],
   "source": [
    "for i in sentence_tokens:\n",
    "    print(i)"
   ]
  },
  {
   "cell_type": "code",
   "execution_count": null,
   "id": "87c17992-ccad-4cf6-8162-e18325c77705",
   "metadata": {},
   "outputs": [],
   "source": []
  }
 ],
 "metadata": {
  "kernelspec": {
   "display_name": "Python 3 (ipykernel)",
   "language": "python",
   "name": "python3"
  },
  "language_info": {
   "codemirror_mode": {
    "name": "ipython",
    "version": 3
   },
   "file_extension": ".py",
   "mimetype": "text/x-python",
   "name": "python",
   "nbconvert_exporter": "python",
   "pygments_lexer": "ipython3",
   "version": "3.9.2"
  }
 },
 "nbformat": 4,
 "nbformat_minor": 5
}
