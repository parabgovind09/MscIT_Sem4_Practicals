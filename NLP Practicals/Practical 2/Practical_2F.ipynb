{
 "cells": [
  {
   "cell_type": "code",
   "execution_count": 1,
   "id": "0e136550-240c-4e4b-a967-2c76c4ebf296",
   "metadata": {},
   "outputs": [],
   "source": [
    "# Practical 2F :- Tokenization using Regular Expression"
   ]
  },
  {
   "cell_type": "code",
   "execution_count": 2,
   "id": "b592e019-9286-4db7-a900-966d0fb73024",
   "metadata": {},
   "outputs": [
    {
     "name": "stdout",
     "output_type": "stream",
     "text": [
      "Requirement already satisfied: nltk in c:\\users\\minal\\appdata\\local\\programs\\python\\python39\\lib\\site-packages (3.8.1)\n",
      "Requirement already satisfied: joblib in c:\\users\\minal\\appdata\\local\\programs\\python\\python39\\lib\\site-packages (from nltk) (1.4.2)\n",
      "Requirement already satisfied: regex>=2021.8.3 in c:\\users\\minal\\appdata\\local\\programs\\python\\python39\\lib\\site-packages (from nltk) (2024.5.15)\n",
      "Requirement already satisfied: click in c:\\users\\minal\\appdata\\local\\programs\\python\\python39\\lib\\site-packages (from nltk) (8.1.7)\n",
      "Requirement already satisfied: tqdm in c:\\users\\minal\\appdata\\local\\programs\\python\\python39\\lib\\site-packages (from nltk) (4.66.5)\n",
      "Requirement already satisfied: colorama; platform_system == \"Windows\" in c:\\users\\minal\\appdata\\local\\programs\\python\\python39\\lib\\site-packages (from click->nltk) (0.4.6)\n"
     ]
    },
    {
     "name": "stderr",
     "output_type": "stream",
     "text": [
      "WARNING: You are using pip version 20.2.3; however, version 24.2 is available.\n",
      "You should consider upgrading via the 'c:\\users\\minal\\appdata\\local\\programs\\python\\python39\\python.exe -m pip install --upgrade pip' command.\n"
     ]
    }
   ],
   "source": [
    "!pip install nltk"
   ]
  },
  {
   "cell_type": "code",
   "execution_count": 3,
   "id": "c3e1583b-48c5-4f4b-b418-2205a7be5ee5",
   "metadata": {},
   "outputs": [],
   "source": [
    "import nltk"
   ]
  },
  {
   "cell_type": "code",
   "execution_count": 4,
   "id": "0b1f73ca-1269-4004-86dc-212c970cd205",
   "metadata": {},
   "outputs": [],
   "source": [
    "from nltk.tokenize import RegexpTokenizer"
   ]
  },
  {
   "cell_type": "code",
   "execution_count": 5,
   "id": "dd12f072-56fc-497e-869b-28e8f74ed7d0",
   "metadata": {},
   "outputs": [],
   "source": [
    "text = \"Dog is a pet animal. It is the oldest friend of human beings. It watches our house. It is very faithful animal and never left his master. It is used by police to fight crime. Sheep- rearers also use them. Thus it is useful for us in many ways. Cow is important cattle. It is reared all over the world for milk. In India it is a holy animal. Many people worship it. In rural area it fulfills the need of protein. Its waste is also used for making dung. We must protect it as a valuable asset.\""
   ]
  },
  {
   "cell_type": "code",
   "execution_count": 6,
   "id": "6579c732-38d6-4bed-8d66-c46ece63990b",
   "metadata": {},
   "outputs": [
    {
     "name": "stdout",
     "output_type": "stream",
     "text": [
      "Dog is a pet animal. It is the oldest friend of human beings. It watches our house. It is very faithful animal and never left his master. It is used by police to fight crime. Sheep- rearers also use them. Thus it is useful for us in many ways. Cow is important cattle. It is reared all over the world for milk. In India it is a holy animal. Many people worship it. In rural area it fulfills the need of protein. Its waste is also used for making dung. We must protect it as a valuable asset.\n"
     ]
    }
   ],
   "source": [
    "print(text)"
   ]
  },
  {
   "cell_type": "code",
   "execution_count": 7,
   "id": "17f09ecc-35e8-42df-ab3c-4bd6feac8b66",
   "metadata": {},
   "outputs": [],
   "source": [
    "tk = RegexpTokenizer(\"\\s+\",gaps=True)"
   ]
  },
  {
   "cell_type": "code",
   "execution_count": 8,
   "id": "234fc124-3ed4-43a3-b794-a831ebd49d44",
   "metadata": {},
   "outputs": [],
   "source": [
    "tokens = tk.tokenize(text)"
   ]
  },
  {
   "cell_type": "code",
   "execution_count": 9,
   "id": "efd48075-c7c0-4333-af6d-efb8aa3e6778",
   "metadata": {},
   "outputs": [
    {
     "name": "stdout",
     "output_type": "stream",
     "text": [
      "['Dog', 'is', 'a', 'pet', 'animal.', 'It', 'is', 'the', 'oldest', 'friend', 'of', 'human', 'beings.', 'It', 'watches', 'our', 'house.', 'It', 'is', 'very', 'faithful', 'animal', 'and', 'never', 'left', 'his', 'master.', 'It', 'is', 'used', 'by', 'police', 'to', 'fight', 'crime.', 'Sheep-', 'rearers', 'also', 'use', 'them.', 'Thus', 'it', 'is', 'useful', 'for', 'us', 'in', 'many', 'ways.', 'Cow', 'is', 'important', 'cattle.', 'It', 'is', 'reared', 'all', 'over', 'the', 'world', 'for', 'milk.', 'In', 'India', 'it', 'is', 'a', 'holy', 'animal.', 'Many', 'people', 'worship', 'it.', 'In', 'rural', 'area', 'it', 'fulfills', 'the', 'need', 'of', 'protein.', 'Its', 'waste', 'is', 'also', 'used', 'for', 'making', 'dung.', 'We', 'must', 'protect', 'it', 'as', 'a', 'valuable', 'asset.']\n"
     ]
    }
   ],
   "source": [
    "print(tokens)"
   ]
  }
 ],
 "metadata": {
  "kernelspec": {
   "display_name": "Python 3 (ipykernel)",
   "language": "python",
   "name": "python3"
  },
  "language_info": {
   "codemirror_mode": {
    "name": "ipython",
    "version": 3
   },
   "file_extension": ".py",
   "mimetype": "text/x-python",
   "name": "python",
   "nbconvert_exporter": "python",
   "pygments_lexer": "ipython3",
   "version": "3.9.2"
  }
 },
 "nbformat": 4,
 "nbformat_minor": 5
}
