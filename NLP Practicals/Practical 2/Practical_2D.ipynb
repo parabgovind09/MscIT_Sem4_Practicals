{
  "nbformat": 4,
  "nbformat_minor": 0,
  "metadata": {
    "colab": {
      "provenance": []
    },
    "kernelspec": {
      "name": "python3",
      "display_name": "Python 3"
    },
    "language_info": {
      "name": "python"
    }
  },
  "cells": [
    {
      "cell_type": "code",
      "execution_count": 1,
      "metadata": {
        "id": "kk49FhTmoicB"
      },
      "outputs": [],
      "source": [
        "# Practical 2D :- Tokenization using gensim"
      ]
    },
    {
      "cell_type": "code",
      "source": [
        "!pip install gensim"
      ],
      "metadata": {
        "colab": {
          "base_uri": "https://localhost:8080/"
        },
        "id": "RG-weMR4osK7",
        "outputId": "a8556bb5-9a67-47c7-f744-c1c80b37e8b5"
      },
      "execution_count": 2,
      "outputs": [
        {
          "output_type": "stream",
          "name": "stdout",
          "text": [
            "Requirement already satisfied: gensim in /usr/local/lib/python3.10/dist-packages (4.3.3)\n",
            "Requirement already satisfied: numpy<2.0,>=1.18.5 in /usr/local/lib/python3.10/dist-packages (from gensim) (1.26.4)\n",
            "Requirement already satisfied: scipy<1.14.0,>=1.7.0 in /usr/local/lib/python3.10/dist-packages (from gensim) (1.13.1)\n",
            "Requirement already satisfied: smart-open>=1.8.1 in /usr/local/lib/python3.10/dist-packages (from gensim) (7.0.4)\n",
            "Requirement already satisfied: wrapt in /usr/local/lib/python3.10/dist-packages (from smart-open>=1.8.1->gensim) (1.16.0)\n"
          ]
        }
      ]
    },
    {
      "cell_type": "code",
      "source": [
        "import gensim"
      ],
      "metadata": {
        "id": "3fgL8_Ydospd"
      },
      "execution_count": 3,
      "outputs": []
    },
    {
      "cell_type": "code",
      "source": [
        "from gensim.utils import tokenize"
      ],
      "metadata": {
        "id": "0bqy26UFot9r"
      },
      "execution_count": 4,
      "outputs": []
    },
    {
      "cell_type": "code",
      "source": [
        "text = \"Dog is a pet animal. It is the oldest friend of human beings. It watches our house. It is very faithful animal and never left his master. It is used by police to fight crime. Sheep- rearers also use them. Thus it is useful for us in many ways. Cow is important cattle. It is reared all over the world for milk. In India it is a holy animal. Many people worship it. In rural area it fulfills the need of protein. Its waste is also used for making dung. We must protect it as a valuable asset.\""
      ],
      "metadata": {
        "id": "s1zO7oTtozPI"
      },
      "execution_count": 5,
      "outputs": []
    },
    {
      "cell_type": "code",
      "source": [
        "print(text)"
      ],
      "metadata": {
        "colab": {
          "base_uri": "https://localhost:8080/"
        },
        "id": "-gapIx6ao3Fm",
        "outputId": "39368f6b-02cd-492e-9a73-6e9ab1540a95"
      },
      "execution_count": 6,
      "outputs": [
        {
          "output_type": "stream",
          "name": "stdout",
          "text": [
            "Dog is a pet animal. It is the oldest friend of human beings. It watches our house. It is very faithful animal and never left his master. It is used by police to fight crime. Sheep- rearers also use them. Thus it is useful for us in many ways. Cow is important cattle. It is reared all over the world for milk. In India it is a holy animal. Many people worship it. In rural area it fulfills the need of protein. Its waste is also used for making dung. We must protect it as a valuable asset.\n"
          ]
        }
      ]
    },
    {
      "cell_type": "code",
      "source": [
        "list(tokenize(text))"
      ],
      "metadata": {
        "colab": {
          "base_uri": "https://localhost:8080/"
        },
        "id": "gkGAiriMo4RF",
        "outputId": "46c31244-b7ee-4030-b9dc-354189c26749"
      },
      "execution_count": 7,
      "outputs": [
        {
          "output_type": "execute_result",
          "data": {
            "text/plain": [
              "['Dog',\n",
              " 'is',\n",
              " 'a',\n",
              " 'pet',\n",
              " 'animal',\n",
              " 'It',\n",
              " 'is',\n",
              " 'the',\n",
              " 'oldest',\n",
              " 'friend',\n",
              " 'of',\n",
              " 'human',\n",
              " 'beings',\n",
              " 'It',\n",
              " 'watches',\n",
              " 'our',\n",
              " 'house',\n",
              " 'It',\n",
              " 'is',\n",
              " 'very',\n",
              " 'faithful',\n",
              " 'animal',\n",
              " 'and',\n",
              " 'never',\n",
              " 'left',\n",
              " 'his',\n",
              " 'master',\n",
              " 'It',\n",
              " 'is',\n",
              " 'used',\n",
              " 'by',\n",
              " 'police',\n",
              " 'to',\n",
              " 'fight',\n",
              " 'crime',\n",
              " 'Sheep',\n",
              " 'rearers',\n",
              " 'also',\n",
              " 'use',\n",
              " 'them',\n",
              " 'Thus',\n",
              " 'it',\n",
              " 'is',\n",
              " 'useful',\n",
              " 'for',\n",
              " 'us',\n",
              " 'in',\n",
              " 'many',\n",
              " 'ways',\n",
              " 'Cow',\n",
              " 'is',\n",
              " 'important',\n",
              " 'cattle',\n",
              " 'It',\n",
              " 'is',\n",
              " 'reared',\n",
              " 'all',\n",
              " 'over',\n",
              " 'the',\n",
              " 'world',\n",
              " 'for',\n",
              " 'milk',\n",
              " 'In',\n",
              " 'India',\n",
              " 'it',\n",
              " 'is',\n",
              " 'a',\n",
              " 'holy',\n",
              " 'animal',\n",
              " 'Many',\n",
              " 'people',\n",
              " 'worship',\n",
              " 'it',\n",
              " 'In',\n",
              " 'rural',\n",
              " 'area',\n",
              " 'it',\n",
              " 'fulfills',\n",
              " 'the',\n",
              " 'need',\n",
              " 'of',\n",
              " 'protein',\n",
              " 'Its',\n",
              " 'waste',\n",
              " 'is',\n",
              " 'also',\n",
              " 'used',\n",
              " 'for',\n",
              " 'making',\n",
              " 'dung',\n",
              " 'We',\n",
              " 'must',\n",
              " 'protect',\n",
              " 'it',\n",
              " 'as',\n",
              " 'a',\n",
              " 'valuable',\n",
              " 'asset']"
            ]
          },
          "metadata": {},
          "execution_count": 7
        }
      ]
    },
    {
      "cell_type": "code",
      "source": [],
      "metadata": {
        "id": "113KNYSro_nt"
      },
      "execution_count": null,
      "outputs": []
    }
  ]
}